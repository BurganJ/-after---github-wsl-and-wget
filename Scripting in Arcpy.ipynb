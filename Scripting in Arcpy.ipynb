{
 "cells": [
  {
   "cell_type": "code",
   "execution_count": 34,
   "metadata": {},
   "outputs": [],
   "source": [
    "import numpy as np\n",
    "import pandas as pd\n",
    "import matplotlib.pyplot as plt\n",
    "from arcgis.gis import GIS\n",
    "from arcgis.features import GeoAccessor, GeoSeriesAccessor\n",
    "import arcpy\n",
    "%matplotlib inline"
   ]
  },
  {
   "cell_type": "code",
   "execution_count": 35,
   "metadata": {},
   "outputs": [],
   "source": [
    "gis = GIS()"
   ]
  },
  {
   "cell_type": "markdown",
   "metadata": {},
   "source": [
    "# Buildings"
   ]
  },
  {
   "cell_type": "code",
   "execution_count": 36,
   "metadata": {},
   "outputs": [],
   "source": [
    "arcpy.env.workspace = r'C:\\Users\\azale\\algorithms\\Buildings'\n",
    "data_buildings = 'Buildings.shp'"
   ]
  },
  {
   "cell_type": "code",
   "execution_count": 37,
   "metadata": {},
   "outputs": [],
   "source": [
    "test_data = arcpy.management.AddField(data_buildings, \"area\", \"DOUBLE\")"
   ]
  },
  {
   "cell_type": "code",
   "execution_count": 38,
   "metadata": {
    "scrolled": true
   },
   "outputs": [
    {
     "data": {
      "text/html": [
       "<div class='gpresult'><h2>Messages</h2><div id='messages' data-messages='[\"Start Time: Thursday, March 23, 2023 4:52:14 PM\",\"Succeeded at Thursday, March 23, 2023 4:52:21 PM (Elapsed Time: 7.11 seconds)\"]' data-show='true'><div id = 'default' /></div></div>"
      ],
      "text/plain": [
       "<Result 'C:\\\\Users\\\\azale\\\\algorithms\\\\Buildings\\\\Buildings.shp'>"
      ]
     },
     "execution_count": 38,
     "metadata": {},
     "output_type": "execute_result"
    }
   ],
   "source": [
    "arcpy.management.CalculateGeometryAttributes(test_data, [[\"area\",\"AREA_GEODESIC\"]], \"\", \"SQUARE_METERS\")"
   ]
  },
  {
   "cell_type": "code",
   "execution_count": 39,
   "metadata": {},
   "outputs": [],
   "source": [
    "df_buildings = pd.DataFrame.spatial.from_featureclass(data_buildings)"
   ]
  },
  {
   "cell_type": "code",
   "execution_count": 40,
   "metadata": {},
   "outputs": [
    {
     "data": {
      "text/html": [
       "<div>\n",
       "<style scoped>\n",
       "    .dataframe tbody tr th:only-of-type {\n",
       "        vertical-align: middle;\n",
       "    }\n",
       "\n",
       "    .dataframe tbody tr th {\n",
       "        vertical-align: top;\n",
       "    }\n",
       "\n",
       "    .dataframe thead th {\n",
       "        text-align: right;\n",
       "    }\n",
       "</style>\n",
       "<table border=\"1\" class=\"dataframe\">\n",
       "  <thead>\n",
       "    <tr style=\"text-align: right;\">\n",
       "      <th></th>\n",
       "      <th>FID</th>\n",
       "      <th>TYPE</th>\n",
       "      <th>STNUM</th>\n",
       "      <th>STREET_PRE</th>\n",
       "      <th>STREET_NAM</th>\n",
       "      <th>STREET_TYP</th>\n",
       "      <th>STREET_SUF</th>\n",
       "      <th>LOT_APT</th>\n",
       "      <th>COMMUNITY</th>\n",
       "      <th>COMMON_NAM</th>\n",
       "      <th>...</th>\n",
       "      <th>DATA_SOURC</th>\n",
       "      <th>BLDG_NUM</th>\n",
       "      <th>CO_DATE</th>\n",
       "      <th>NEIGHBORHO</th>\n",
       "      <th>GlobalID</th>\n",
       "      <th>BLDG_ID</th>\n",
       "      <th>Shape_area</th>\n",
       "      <th>Shape_len</th>\n",
       "      <th>area</th>\n",
       "      <th>SHAPE</th>\n",
       "    </tr>\n",
       "  </thead>\n",
       "  <tbody>\n",
       "    <tr>\n",
       "      <th>0</th>\n",
       "      <td>0</td>\n",
       "      <td>Corrected</td>\n",
       "      <td>0.0</td>\n",
       "      <td></td>\n",
       "      <td>HIGHLAND</td>\n",
       "      <td>CIR</td>\n",
       "      <td></td>\n",
       "      <td></td>\n",
       "      <td>BLACKSBURG</td>\n",
       "      <td></td>\n",
       "      <td>...</td>\n",
       "      <td>Blacksburg</td>\n",
       "      <td></td>\n",
       "      <td></td>\n",
       "      <td>GRISSOM/HIGHLAND</td>\n",
       "      <td>{6E450183-9999-4CEB-AD03-BE4F8E072208}</td>\n",
       "      <td>1</td>\n",
       "      <td>613.068476</td>\n",
       "      <td>99.072793</td>\n",
       "      <td>56.962019</td>\n",
       "      <td>{\"rings\": [[[10932902.729474768, 3610652.26103...</td>\n",
       "    </tr>\n",
       "    <tr>\n",
       "      <th>1</th>\n",
       "      <td>1</td>\n",
       "      <td>Corrected</td>\n",
       "      <td>209.0</td>\n",
       "      <td></td>\n",
       "      <td>HEARTWOOD</td>\n",
       "      <td>XING</td>\n",
       "      <td></td>\n",
       "      <td></td>\n",
       "      <td>BLACKSBURG</td>\n",
       "      <td></td>\n",
       "      <td>...</td>\n",
       "      <td>Blacksburg</td>\n",
       "      <td></td>\n",
       "      <td></td>\n",
       "      <td>MAIN/PATRICK HENRY</td>\n",
       "      <td>{BD785FB6-9480-43C1-88B4-EE258C1DDB18}</td>\n",
       "      <td>2</td>\n",
       "      <td>1516.727063</td>\n",
       "      <td>170.788011</td>\n",
       "      <td>140.923976</td>\n",
       "      <td>{\"rings\": [[[10927818.343646199, 3622856.58307...</td>\n",
       "    </tr>\n",
       "    <tr>\n",
       "      <th>2</th>\n",
       "      <td>2</td>\n",
       "      <td>Corrected</td>\n",
       "      <td>817.0</td>\n",
       "      <td></td>\n",
       "      <td>DAVIS</td>\n",
       "      <td>ST</td>\n",
       "      <td></td>\n",
       "      <td>STE 1</td>\n",
       "      <td>BLACKSBURG</td>\n",
       "      <td>NINA TEMPLETON MD</td>\n",
       "      <td>...</td>\n",
       "      <td>Blacksburg</td>\n",
       "      <td></td>\n",
       "      <td></td>\n",
       "      <td>FARMVIEW/RAMBLE</td>\n",
       "      <td>{1980797A-D612-4E27-ADEA-03EC3D42F015}</td>\n",
       "      <td>3</td>\n",
       "      <td>6914.543067</td>\n",
       "      <td>432.476118</td>\n",
       "      <td>642.448482</td>\n",
       "      <td>{\"rings\": [[[10925422.688660607, 3597193.72069...</td>\n",
       "    </tr>\n",
       "    <tr>\n",
       "      <th>3</th>\n",
       "      <td>3</td>\n",
       "      <td>Corrected</td>\n",
       "      <td>0.0</td>\n",
       "      <td></td>\n",
       "      <td>MAYWOOD</td>\n",
       "      <td>ST</td>\n",
       "      <td></td>\n",
       "      <td></td>\n",
       "      <td>BLACKSBURG</td>\n",
       "      <td></td>\n",
       "      <td>...</td>\n",
       "      <td>Blacksburg</td>\n",
       "      <td></td>\n",
       "      <td></td>\n",
       "      <td>WOODBINE/WYATT</td>\n",
       "      <td>{922CF6A0-DC03-47CA-A9E0-B1E7547DB231}</td>\n",
       "      <td>4</td>\n",
       "      <td>119.845643</td>\n",
       "      <td>45.963462</td>\n",
       "      <td>11.135250</td>\n",
       "      <td>{\"rings\": [[[10925680.519181699, 3626058.29189...</td>\n",
       "    </tr>\n",
       "    <tr>\n",
       "      <th>4</th>\n",
       "      <td>4</td>\n",
       "      <td>Corrected</td>\n",
       "      <td>3010.0</td>\n",
       "      <td></td>\n",
       "      <td>LANCASTER</td>\n",
       "      <td>DR</td>\n",
       "      <td></td>\n",
       "      <td></td>\n",
       "      <td>BLACKSBURG</td>\n",
       "      <td></td>\n",
       "      <td>...</td>\n",
       "      <td>Blacksburg</td>\n",
       "      <td></td>\n",
       "      <td></td>\n",
       "      <td>HETHWOOD/PRICES FORK</td>\n",
       "      <td>{4F05B684-C85A-41A0-ADFF-003F3CFADD58}</td>\n",
       "      <td>5</td>\n",
       "      <td>2869.049440</td>\n",
       "      <td>246.291952</td>\n",
       "      <td>266.571531</td>\n",
       "      <td>{\"rings\": [[[10913398.27635777, 3605119.399721...</td>\n",
       "    </tr>\n",
       "  </tbody>\n",
       "</table>\n",
       "<p>5 rows × 25 columns</p>\n",
       "</div>"
      ],
      "text/plain": [
       "   FID       TYPE   STNUM STREET_PRE STREET_NAM STREET_TYP STREET_SUF LOT_APT  \\\n",
       "0    0  Corrected     0.0              HIGHLAND        CIR                      \n",
       "1    1  Corrected   209.0             HEARTWOOD       XING                      \n",
       "2    2  Corrected   817.0                 DAVIS         ST              STE 1   \n",
       "3    3  Corrected     0.0               MAYWOOD         ST                      \n",
       "4    4  Corrected  3010.0             LANCASTER         DR                      \n",
       "\n",
       "    COMMUNITY         COMMON_NAM  ...  DATA_SOURC BLDG_NUM CO_DATE  \\\n",
       "0  BLACKSBURG                     ...  Blacksburg                    \n",
       "1  BLACKSBURG                     ...  Blacksburg                    \n",
       "2  BLACKSBURG  NINA TEMPLETON MD  ...  Blacksburg                    \n",
       "3  BLACKSBURG                     ...  Blacksburg                    \n",
       "4  BLACKSBURG                     ...  Blacksburg                    \n",
       "\n",
       "             NEIGHBORHO                                GlobalID BLDG_ID  \\\n",
       "0      GRISSOM/HIGHLAND  {6E450183-9999-4CEB-AD03-BE4F8E072208}       1   \n",
       "1    MAIN/PATRICK HENRY  {BD785FB6-9480-43C1-88B4-EE258C1DDB18}       2   \n",
       "2       FARMVIEW/RAMBLE  {1980797A-D612-4E27-ADEA-03EC3D42F015}       3   \n",
       "3        WOODBINE/WYATT  {922CF6A0-DC03-47CA-A9E0-B1E7547DB231}       4   \n",
       "4  HETHWOOD/PRICES FORK  {4F05B684-C85A-41A0-ADFF-003F3CFADD58}       5   \n",
       "\n",
       "    Shape_area   Shape_len        area  \\\n",
       "0   613.068476   99.072793   56.962019   \n",
       "1  1516.727063  170.788011  140.923976   \n",
       "2  6914.543067  432.476118  642.448482   \n",
       "3   119.845643   45.963462   11.135250   \n",
       "4  2869.049440  246.291952  266.571531   \n",
       "\n",
       "                                               SHAPE  \n",
       "0  {\"rings\": [[[10932902.729474768, 3610652.26103...  \n",
       "1  {\"rings\": [[[10927818.343646199, 3622856.58307...  \n",
       "2  {\"rings\": [[[10925422.688660607, 3597193.72069...  \n",
       "3  {\"rings\": [[[10925680.519181699, 3626058.29189...  \n",
       "4  {\"rings\": [[[10913398.27635777, 3605119.399721...  \n",
       "\n",
       "[5 rows x 25 columns]"
      ]
     },
     "execution_count": 40,
     "metadata": {},
     "output_type": "execute_result"
    }
   ],
   "source": [
    "df_buildings.head()"
   ]
  },
  {
   "cell_type": "markdown",
   "metadata": {},
   "source": [
    "# Sidewalks"
   ]
  },
  {
   "cell_type": "code",
   "execution_count": 41,
   "metadata": {},
   "outputs": [],
   "source": [
    "arcpy.env.workspace = r'C:\\Users\\azale\\algorithms\\Sidewalks'\n",
    "data_sidewalks = 'Sidewalks.shp'"
   ]
  },
  {
   "cell_type": "code",
   "execution_count": 42,
   "metadata": {},
   "outputs": [],
   "source": [
    "test_data = arcpy.management.AddField(data_sidewalks, \"area\", \"DOUBLE\")"
   ]
  },
  {
   "cell_type": "code",
   "execution_count": 43,
   "metadata": {},
   "outputs": [
    {
     "data": {
      "text/html": [
       "<div class='gpresult'><h2>Messages</h2><div id='messages' data-messages='[\"Start Time: Thursday, March 23, 2023 4:52:23 PM\",\"Succeeded at Thursday, March 23, 2023 4:52:30 PM (Elapsed Time: 6.99 seconds)\"]' data-show='true'><div id = 'default' /></div></div>"
      ],
      "text/plain": [
       "<Result 'C:\\\\Users\\\\azale\\\\algorithms\\\\Sidewalks\\\\Sidewalks.shp'>"
      ]
     },
     "execution_count": 43,
     "metadata": {},
     "output_type": "execute_result"
    }
   ],
   "source": [
    "arcpy.management.CalculateGeometryAttributes(test_data, [[\"area\",\"AREA_GEODESIC\"]], \"\", \"SQUARE_METERS\")"
   ]
  },
  {
   "cell_type": "code",
   "execution_count": 44,
   "metadata": {},
   "outputs": [],
   "source": [
    "df_sidewalks = pd.DataFrame.spatial.from_featureclass(data_sidewalks)"
   ]
  },
  {
   "cell_type": "code",
   "execution_count": 45,
   "metadata": {},
   "outputs": [
    {
     "data": {
      "text/html": [
       "<div>\n",
       "<style scoped>\n",
       "    .dataframe tbody tr th:only-of-type {\n",
       "        vertical-align: middle;\n",
       "    }\n",
       "\n",
       "    .dataframe tbody tr th {\n",
       "        vertical-align: top;\n",
       "    }\n",
       "\n",
       "    .dataframe thead th {\n",
       "        text-align: right;\n",
       "    }\n",
       "</style>\n",
       "<table border=\"1\" class=\"dataframe\">\n",
       "  <thead>\n",
       "    <tr style=\"text-align: right;\">\n",
       "      <th></th>\n",
       "      <th>FID</th>\n",
       "      <th>OBJECTID</th>\n",
       "      <th>TYPE</th>\n",
       "      <th>Assessment</th>\n",
       "      <th>Shape_Leng</th>\n",
       "      <th>Shape_area</th>\n",
       "      <th>Shape_len</th>\n",
       "      <th>area</th>\n",
       "      <th>SHAPE</th>\n",
       "    </tr>\n",
       "  </thead>\n",
       "  <tbody>\n",
       "    <tr>\n",
       "      <th>0</th>\n",
       "      <td>0</td>\n",
       "      <td>2</td>\n",
       "      <td>Sidewalk</td>\n",
       "      <td></td>\n",
       "      <td>100.020988</td>\n",
       "      <td>113.805080</td>\n",
       "      <td>100.020988</td>\n",
       "      <td>10.573932</td>\n",
       "      <td>{\"rings\": [[[10930961.939065024, 3596399.09301...</td>\n",
       "    </tr>\n",
       "    <tr>\n",
       "      <th>1</th>\n",
       "      <td>1</td>\n",
       "      <td>3</td>\n",
       "      <td>Sidewalk</td>\n",
       "      <td></td>\n",
       "      <td>238.104543</td>\n",
       "      <td>439.455531</td>\n",
       "      <td>238.104543</td>\n",
       "      <td>40.830929</td>\n",
       "      <td>{\"rings\": [[[10929806.781598449, 3596468.35304...</td>\n",
       "    </tr>\n",
       "    <tr>\n",
       "      <th>2</th>\n",
       "      <td>2</td>\n",
       "      <td>4</td>\n",
       "      <td>Sidewalk</td>\n",
       "      <td></td>\n",
       "      <td>262.450639</td>\n",
       "      <td>442.927847</td>\n",
       "      <td>262.450639</td>\n",
       "      <td>41.153584</td>\n",
       "      <td>{\"rings\": [[[10929966.827866271, 3596491.28279...</td>\n",
       "    </tr>\n",
       "    <tr>\n",
       "      <th>3</th>\n",
       "      <td>3</td>\n",
       "      <td>6</td>\n",
       "      <td>Sidewalk</td>\n",
       "      <td></td>\n",
       "      <td>68.664887</td>\n",
       "      <td>172.361667</td>\n",
       "      <td>68.664887</td>\n",
       "      <td>16.014576</td>\n",
       "      <td>{\"rings\": [[[10929946.211765781, 3596519.85097...</td>\n",
       "    </tr>\n",
       "    <tr>\n",
       "      <th>4</th>\n",
       "      <td>4</td>\n",
       "      <td>7</td>\n",
       "      <td>Sidewalk</td>\n",
       "      <td></td>\n",
       "      <td>81.241412</td>\n",
       "      <td>107.058688</td>\n",
       "      <td>81.241412</td>\n",
       "      <td>9.947103</td>\n",
       "      <td>{\"rings\": [[[10931112.286861435, 3596564.64648...</td>\n",
       "    </tr>\n",
       "  </tbody>\n",
       "</table>\n",
       "</div>"
      ],
      "text/plain": [
       "   FID  OBJECTID      TYPE Assessment  Shape_Leng  Shape_area   Shape_len  \\\n",
       "0    0         2  Sidewalk             100.020988  113.805080  100.020988   \n",
       "1    1         3  Sidewalk             238.104543  439.455531  238.104543   \n",
       "2    2         4  Sidewalk             262.450639  442.927847  262.450639   \n",
       "3    3         6  Sidewalk              68.664887  172.361667   68.664887   \n",
       "4    4         7  Sidewalk              81.241412  107.058688   81.241412   \n",
       "\n",
       "        area                                              SHAPE  \n",
       "0  10.573932  {\"rings\": [[[10930961.939065024, 3596399.09301...  \n",
       "1  40.830929  {\"rings\": [[[10929806.781598449, 3596468.35304...  \n",
       "2  41.153584  {\"rings\": [[[10929966.827866271, 3596491.28279...  \n",
       "3  16.014576  {\"rings\": [[[10929946.211765781, 3596519.85097...  \n",
       "4   9.947103  {\"rings\": [[[10931112.286861435, 3596564.64648...  "
      ]
     },
     "execution_count": 45,
     "metadata": {},
     "output_type": "execute_result"
    }
   ],
   "source": [
    "df_sidewalks.head()"
   ]
  },
  {
   "cell_type": "markdown",
   "metadata": {},
   "source": [
    "# Pavement"
   ]
  },
  {
   "cell_type": "code",
   "execution_count": 46,
   "metadata": {},
   "outputs": [],
   "source": [
    "arcpy.env.workspace = r'C:\\Users\\azale\\algorithms\\Edge_of_Pavement'\n",
    "data_pavement = 'Edge_of_Pavement.shp'"
   ]
  },
  {
   "cell_type": "code",
   "execution_count": 47,
   "metadata": {},
   "outputs": [],
   "source": [
    "test_data = arcpy.management.AddField(data_pavement, \"area\", \"DOUBLE\")"
   ]
  },
  {
   "cell_type": "code",
   "execution_count": 48,
   "metadata": {},
   "outputs": [
    {
     "data": {
      "text/html": [
       "<div class='gpresult'><h2>Messages</h2><div id='messages' data-messages='[\"Start Time: Thursday, March 23, 2023 4:52:32 PM\",\"Succeeded at Thursday, March 23, 2023 4:52:42 PM (Elapsed Time: 9.27 seconds)\"]' data-show='true'><div id = 'default' /></div></div>"
      ],
      "text/plain": [
       "<Result 'C:\\\\Users\\\\azale\\\\algorithms\\\\Edge_of_Pavement\\\\Edge_of_Pavement.shp'>"
      ]
     },
     "execution_count": 48,
     "metadata": {},
     "output_type": "execute_result"
    }
   ],
   "source": [
    "arcpy.management.CalculateGeometryAttributes(test_data, [[\"area\",\"AREA_GEODESIC\"]], \"\", \"SQUARE_METERS\")"
   ]
  },
  {
   "cell_type": "code",
   "execution_count": 49,
   "metadata": {},
   "outputs": [],
   "source": [
    "df_pavement = pd.DataFrame.spatial.from_featureclass(data_pavement)"
   ]
  },
  {
   "cell_type": "code",
   "execution_count": 50,
   "metadata": {},
   "outputs": [
    {
     "data": {
      "text/html": [
       "<div>\n",
       "<style scoped>\n",
       "    .dataframe tbody tr th:only-of-type {\n",
       "        vertical-align: middle;\n",
       "    }\n",
       "\n",
       "    .dataframe tbody tr th {\n",
       "        vertical-align: top;\n",
       "    }\n",
       "\n",
       "    .dataframe thead th {\n",
       "        text-align: right;\n",
       "    }\n",
       "</style>\n",
       "<table border=\"1\" class=\"dataframe\">\n",
       "  <thead>\n",
       "    <tr style=\"text-align: right;\">\n",
       "      <th></th>\n",
       "      <th>FID</th>\n",
       "      <th>OBJECTID</th>\n",
       "      <th>TYPE</th>\n",
       "      <th>Shape_Leng</th>\n",
       "      <th>Shape_area</th>\n",
       "      <th>Shape_len</th>\n",
       "      <th>area</th>\n",
       "      <th>SHAPE</th>\n",
       "    </tr>\n",
       "  </thead>\n",
       "  <tbody>\n",
       "    <tr>\n",
       "      <th>0</th>\n",
       "      <td>0</td>\n",
       "      <td>3</td>\n",
       "      <td>Roads Paved</td>\n",
       "      <td>91.905396</td>\n",
       "      <td>208.480285</td>\n",
       "      <td>91.905396</td>\n",
       "      <td>19.370456</td>\n",
       "      <td>{\"rings\": [[[10930258.597952023, 3596137.03678...</td>\n",
       "    </tr>\n",
       "    <tr>\n",
       "      <th>1</th>\n",
       "      <td>1</td>\n",
       "      <td>4</td>\n",
       "      <td>Roads Paved</td>\n",
       "      <td>2078.719622</td>\n",
       "      <td>12576.923995</td>\n",
       "      <td>2078.719622</td>\n",
       "      <td>1168.554445</td>\n",
       "      <td>{\"rings\": [[[10929898.790928856, 3596473.39207...</td>\n",
       "    </tr>\n",
       "    <tr>\n",
       "      <th>2</th>\n",
       "      <td>2</td>\n",
       "      <td>5</td>\n",
       "      <td>Roads Paved</td>\n",
       "      <td>2234.187158</td>\n",
       "      <td>26141.508713</td>\n",
       "      <td>2234.187158</td>\n",
       "      <td>2428.876984</td>\n",
       "      <td>{\"rings\": [[[10928777.741005614, 3597185.89393...</td>\n",
       "    </tr>\n",
       "    <tr>\n",
       "      <th>3</th>\n",
       "      <td>3</td>\n",
       "      <td>6</td>\n",
       "      <td>Roads Paved</td>\n",
       "      <td>4490.588317</td>\n",
       "      <td>61011.794040</td>\n",
       "      <td>4490.588317</td>\n",
       "      <td>5668.760752</td>\n",
       "      <td>{\"rings\": [[[10925858.111674279, 3598233.25109...</td>\n",
       "    </tr>\n",
       "    <tr>\n",
       "      <th>4</th>\n",
       "      <td>4</td>\n",
       "      <td>7</td>\n",
       "      <td>Roads Paved</td>\n",
       "      <td>144.267616</td>\n",
       "      <td>188.536371</td>\n",
       "      <td>144.267616</td>\n",
       "      <td>17.517438</td>\n",
       "      <td>{\"rings\": [[[10915382.558478445, 3602717.06167...</td>\n",
       "    </tr>\n",
       "  </tbody>\n",
       "</table>\n",
       "</div>"
      ],
      "text/plain": [
       "   FID  OBJECTID         TYPE   Shape_Leng    Shape_area    Shape_len  \\\n",
       "0    0         3  Roads Paved    91.905396    208.480285    91.905396   \n",
       "1    1         4  Roads Paved  2078.719622  12576.923995  2078.719622   \n",
       "2    2         5  Roads Paved  2234.187158  26141.508713  2234.187158   \n",
       "3    3         6  Roads Paved  4490.588317  61011.794040  4490.588317   \n",
       "4    4         7  Roads Paved   144.267616    188.536371   144.267616   \n",
       "\n",
       "          area                                              SHAPE  \n",
       "0    19.370456  {\"rings\": [[[10930258.597952023, 3596137.03678...  \n",
       "1  1168.554445  {\"rings\": [[[10929898.790928856, 3596473.39207...  \n",
       "2  2428.876984  {\"rings\": [[[10928777.741005614, 3597185.89393...  \n",
       "3  5668.760752  {\"rings\": [[[10925858.111674279, 3598233.25109...  \n",
       "4    17.517438  {\"rings\": [[[10915382.558478445, 3602717.06167...  "
      ]
     },
     "execution_count": 50,
     "metadata": {},
     "output_type": "execute_result"
    }
   ],
   "source": [
    "df_pavement.head()"
   ]
  },
  {
   "cell_type": "markdown",
   "metadata": {},
   "source": [
    "# Town of Blacksburg"
   ]
  },
  {
   "cell_type": "code",
   "execution_count": 51,
   "metadata": {},
   "outputs": [],
   "source": [
    "arcpy.env.workspace = r'C:\\Users\\azale\\algorithms\\Corporate_Limits+(1)'\n",
    "data_town = 'Corporate_Limits.shp'"
   ]
  },
  {
   "cell_type": "code",
   "execution_count": 52,
   "metadata": {},
   "outputs": [],
   "source": [
    "test_data = arcpy.management.AddField(data_town, \"area\", \"DOUBLE\")"
   ]
  },
  {
   "cell_type": "code",
   "execution_count": 53,
   "metadata": {},
   "outputs": [
    {
     "data": {
      "text/html": [
       "<div class='gpresult'><h2>Messages</h2><div id='messages' data-messages='[\"Start Time: Thursday, March 23, 2023 4:52:45 PM\",\"Succeeded at Thursday, March 23, 2023 4:52:46 PM (Elapsed Time: 1.21 seconds)\"]' data-show='true'><div id = 'default' /></div></div>"
      ],
      "text/plain": [
       "<Result 'C:\\\\Users\\\\azale\\\\algorithms\\\\Corporate_Limits+(1)\\\\Corporate_Limits.shp'>"
      ]
     },
     "execution_count": 53,
     "metadata": {},
     "output_type": "execute_result"
    }
   ],
   "source": [
    "arcpy.management.CalculateGeometryAttributes(test_data, [[\"area\",\"AREA_GEODESIC\"]], \"\", \"SQUARE_METERS\")"
   ]
  },
  {
   "cell_type": "code",
   "execution_count": 54,
   "metadata": {},
   "outputs": [],
   "source": [
    "df_town = pd.DataFrame.spatial.from_featureclass(data_town)"
   ]
  },
  {
   "cell_type": "code",
   "execution_count": 55,
   "metadata": {},
   "outputs": [
    {
     "data": {
      "text/html": [
       "<div>\n",
       "<style scoped>\n",
       "    .dataframe tbody tr th:only-of-type {\n",
       "        vertical-align: middle;\n",
       "    }\n",
       "\n",
       "    .dataframe tbody tr th {\n",
       "        vertical-align: top;\n",
       "    }\n",
       "\n",
       "    .dataframe thead th {\n",
       "        text-align: right;\n",
       "    }\n",
       "</style>\n",
       "<table border=\"1\" class=\"dataframe\">\n",
       "  <thead>\n",
       "    <tr style=\"text-align: right;\">\n",
       "      <th></th>\n",
       "      <th>FID</th>\n",
       "      <th>GlobalID</th>\n",
       "      <th>Acres</th>\n",
       "      <th>Square_Mil</th>\n",
       "      <th>Shape_area</th>\n",
       "      <th>Shape_len</th>\n",
       "      <th>area</th>\n",
       "      <th>SHAPE</th>\n",
       "    </tr>\n",
       "  </thead>\n",
       "  <tbody>\n",
       "    <tr>\n",
       "      <th>0</th>\n",
       "      <td>0</td>\n",
       "      <td>{35B608C7-6E98-4555-8C52-E98C3E837FF2}</td>\n",
       "      <td>12656.2503576954</td>\n",
       "      <td>19.7753911864646</td>\n",
       "      <td>5.523115e+08</td>\n",
       "      <td>166084.609984</td>\n",
       "      <td>5.131693e+07</td>\n",
       "      <td>{\"rings\": [[[10914166.430661365, 3602228.16961...</td>\n",
       "    </tr>\n",
       "  </tbody>\n",
       "</table>\n",
       "</div>"
      ],
      "text/plain": [
       "   FID                                GlobalID             Acres  \\\n",
       "0    0  {35B608C7-6E98-4555-8C52-E98C3E837FF2}  12656.2503576954   \n",
       "\n",
       "         Square_Mil    Shape_area      Shape_len          area  \\\n",
       "0  19.7753911864646  5.523115e+08  166084.609984  5.131693e+07   \n",
       "\n",
       "                                               SHAPE  \n",
       "0  {\"rings\": [[[10914166.430661365, 3602228.16961...  "
      ]
     },
     "execution_count": 55,
     "metadata": {},
     "output_type": "execute_result"
    }
   ],
   "source": [
    "df_town.head()"
   ]
  },
  {
   "cell_type": "markdown",
   "metadata": {},
   "source": [
    "# Total Area of Each Feature"
   ]
  },
  {
   "cell_type": "code",
   "execution_count": 56,
   "metadata": {},
   "outputs": [
    {
     "name": "stdout",
     "output_type": "stream",
     "text": [
      "2338909.655201193\n",
      "884945.3633374954\n",
      "6094091.2901809085\n",
      "51316930.5756\n"
     ]
    }
   ],
   "source": [
    "tot_build = df_buildings[\"area\"].sum()\n",
    "print(tot_build)\n",
    "tot_side = df_sidewalks[\"area\"].sum()\n",
    "print(tot_side)\n",
    "tot_pave = df_pavement[\"area\"].sum()\n",
    "print(tot_pave)\n",
    "tot_town = df_town[\"area\"].sum()\n",
    "print(tot_town)"
   ]
  },
  {
   "cell_type": "markdown",
   "metadata": {},
   "source": [
    "# Percent Area of Buildings, Pavement, and Sidewalks"
   ]
  },
  {
   "cell_type": "code",
   "execution_count": 57,
   "metadata": {},
   "outputs": [
    {
     "name": "stdout",
     "output_type": "stream",
     "text": [
      "Buildings are 4.557773874950522 percent of the town's area.\n",
      "Pavement is 11.875401006697206 percent of the town's area.\n",
      "Sidewalks are 1.7244705663636597 percent of the town's area.\n"
     ]
    }
   ],
   "source": [
    "A = (tot_build/tot_town)*100\n",
    "B = (tot_pave/tot_town)*100\n",
    "C = (tot_side/tot_town)*100\n",
    "print(\"Buildings are\",A,\"percent of the town's area.\")\n",
    "print(\"Pavement is\",B,\"percent of the town's area.\")\n",
    "print(\"Sidewalks are\",C,\"percent of the town's area.\")"
   ]
  },
  {
   "cell_type": "code",
   "execution_count": 58,
   "metadata": {},
   "outputs": [
    {
     "data": {
      "text/html": [
       "<div>\n",
       "<style scoped>\n",
       "    .dataframe tbody tr th:only-of-type {\n",
       "        vertical-align: middle;\n",
       "    }\n",
       "\n",
       "    .dataframe tbody tr th {\n",
       "        vertical-align: top;\n",
       "    }\n",
       "\n",
       "    .dataframe thead th {\n",
       "        text-align: right;\n",
       "    }\n",
       "</style>\n",
       "<table border=\"1\" class=\"dataframe\">\n",
       "  <thead>\n",
       "    <tr style=\"text-align: right;\">\n",
       "      <th></th>\n",
       "      <th>Building Area</th>\n",
       "      <th>Pavement Area</th>\n",
       "      <th>Sidewalk Area</th>\n",
       "      <th>Town Area</th>\n",
       "    </tr>\n",
       "  </thead>\n",
       "  <tbody>\n",
       "    <tr>\n",
       "      <th>0</th>\n",
       "      <td>2.338910e+06</td>\n",
       "      <td>6.094091e+06</td>\n",
       "      <td>884945.363337</td>\n",
       "      <td>5.131693e+07</td>\n",
       "    </tr>\n",
       "  </tbody>\n",
       "</table>\n",
       "</div>"
      ],
      "text/plain": [
       "   Building Area  Pavement Area  Sidewalk Area     Town Area\n",
       "0   2.338910e+06   6.094091e+06  884945.363337  5.131693e+07"
      ]
     },
     "execution_count": 58,
     "metadata": {},
     "output_type": "execute_result"
    }
   ],
   "source": [
    "df_all = pd.DataFrame([{'Building Area':tot_build, 'Pavement Area':tot_pave, 'Sidewalk Area':tot_side, 'Town Area':tot_town}])\n",
    "df_all.head()"
   ]
  },
  {
   "cell_type": "code",
   "execution_count": 59,
   "metadata": {},
   "outputs": [
    {
     "data": {
      "text/html": [
       "<div>\n",
       "<style scoped>\n",
       "    .dataframe tbody tr th:only-of-type {\n",
       "        vertical-align: middle;\n",
       "    }\n",
       "\n",
       "    .dataframe tbody tr th {\n",
       "        vertical-align: top;\n",
       "    }\n",
       "\n",
       "    .dataframe thead th {\n",
       "        text-align: right;\n",
       "    }\n",
       "</style>\n",
       "<table border=\"1\" class=\"dataframe\">\n",
       "  <thead>\n",
       "    <tr style=\"text-align: right;\">\n",
       "      <th></th>\n",
       "      <th>Sidewalk Area</th>\n",
       "      <th>Building Area</th>\n",
       "      <th>Pavement Area</th>\n",
       "    </tr>\n",
       "  </thead>\n",
       "  <tbody>\n",
       "    <tr>\n",
       "      <th>0</th>\n",
       "      <td>1.0</td>\n",
       "      <td>2.642999</td>\n",
       "      <td>6.886404</td>\n",
       "    </tr>\n",
       "  </tbody>\n",
       "</table>\n",
       "</div>"
      ],
      "text/plain": [
       "   Sidewalk Area  Building Area  Pavement Area\n",
       "0            1.0       2.642999       6.886404"
      ]
     },
     "execution_count": 59,
     "metadata": {},
     "output_type": "execute_result"
    }
   ],
   "source": [
    "df_all_norm = df_all/tot_side\n",
    "df_all_norm.drop(columns = ['Town Area'], inplace = True)\n",
    "df_all_norm.sort_values(by = [0], axis = 1, inplace = True)\n",
    "df_all_norm.head()"
   ]
  },
  {
   "cell_type": "code",
   "execution_count": 60,
   "metadata": {},
   "outputs": [
    {
     "data": {
      "image/png": "[encoded data removed]",
      "text/plain": [
       "<Figure size 432x288 with 1 Axes>"
      ]
     },
     "metadata": {
      "needs_background": "light"
     },
     "output_type": "display_data"
    }
   ],
   "source": [
    "df_all_norm.plot.bar(ylabel = 'Normalized Area', xlabel = 'Surfaces')\n",
    "plt.show()"
   ]
  },
  {
   "cell_type": "markdown",
   "metadata": {},
   "source": [
    "# Convex Hull of Buildings"
   ]
  },
  {
   "cell_type": "code",
   "execution_count": 62,
   "metadata": {},
   "outputs": [
    {
     "data": {
      "text/html": [
       "<div class='gpresult'><h2>Messages</h2><div id='messages' data-messages='[\"Start Time: Thursday, March 23, 2023 4:53:14 PM\",\"Succeeded at Thursday, March 23, 2023 4:53:15 PM (Elapsed Time: 0.54 seconds)\"]' data-show='true'><div id = 'default' /></div></div>"
      ],
      "text/plain": [
       "<Result 'C:\\\\Users\\\\azale\\\\algorithms\\\\Buildings\\\\convex_buildings3.shp'>"
      ]
     },
     "execution_count": 62,
     "metadata": {},
     "output_type": "execute_result"
    }
   ],
   "source": [
    "arcpy.env.workspace = r'C:\\Users\\azale\\algorithms\\Buildings'\n",
    "out_feature_class = 'convex_buildings3.shp'\n",
    "arcpy.management.MinimumBoundingGeometry(data_buildings, out_feature_class, \"CONVEX_HULL\", group_option = 'ALL')"
   ]
  },
  {
   "cell_type": "code",
   "execution_count": 63,
   "metadata": {},
   "outputs": [
    {
     "data": {
      "text/html": [
       "<div class='gpresult'><h2>Messages</h2><div id='messages' data-messages='[\"Start Time: Thursday, March 23, 2023 4:53:21 PM\",\"Succeeded at Thursday, March 23, 2023 4:53:22 PM (Elapsed Time: 1.28 seconds)\"]' data-show='true'><div id = 'default' /></div></div>"
      ],
      "text/plain": [
       "<Result 'C:\\\\Users\\\\azale\\\\algorithms\\\\Buildings\\\\convex_buildings3.shp'>"
      ]
     },
     "execution_count": 63,
     "metadata": {},
     "output_type": "execute_result"
    }
   ],
   "source": [
    "data_buildings_2 = 'convex_buildings3.shp'\n",
    "test_data = arcpy.management.AddField(data_buildings_2, \"area\", \"DOUBLE\")\n",
    "arcpy.management.CalculateGeometryAttributes(test_data, [[\"area\",\"AREA_GEODESIC\"]], \"\", \"SQUARE_METERS\")"
   ]
  },
  {
   "cell_type": "code",
   "execution_count": 64,
   "metadata": {},
   "outputs": [
    {
     "data": {
      "text/html": [
       "<div>\n",
       "<style scoped>\n",
       "    .dataframe tbody tr th:only-of-type {\n",
       "        vertical-align: middle;\n",
       "    }\n",
       "\n",
       "    .dataframe tbody tr th {\n",
       "        vertical-align: top;\n",
       "    }\n",
       "\n",
       "    .dataframe thead th {\n",
       "        text-align: right;\n",
       "    }\n",
       "</style>\n",
       "<table border=\"1\" class=\"dataframe\">\n",
       "  <thead>\n",
       "    <tr style=\"text-align: right;\">\n",
       "      <th></th>\n",
       "      <th>FID</th>\n",
       "      <th>Id</th>\n",
       "      <th>area</th>\n",
       "      <th>SHAPE</th>\n",
       "    </tr>\n",
       "  </thead>\n",
       "  <tbody>\n",
       "    <tr>\n",
       "      <th>0</th>\n",
       "      <td>0</td>\n",
       "      <td>0</td>\n",
       "      <td>5.828328e+07</td>\n",
       "      <td>{\"rings\": [[[10930284.855445445, 3596225.38666...</td>\n",
       "    </tr>\n",
       "  </tbody>\n",
       "</table>\n",
       "</div>"
      ],
      "text/plain": [
       "   FID  Id          area                                              SHAPE\n",
       "0    0   0  5.828328e+07  {\"rings\": [[[10930284.855445445, 3596225.38666..."
      ]
     },
     "execution_count": 64,
     "metadata": {},
     "output_type": "execute_result"
    }
   ],
   "source": [
    "df_buildings_2 = pd.DataFrame.spatial.from_featureclass(data_buildings_2)\n",
    "df_buildings_2.head()"
   ]
  },
  {
   "cell_type": "markdown",
   "metadata": {},
   "source": [
    "# Total Area from Convex Hull"
   ]
  },
  {
   "cell_type": "code",
   "execution_count": 65,
   "metadata": {},
   "outputs": [
    {
     "name": "stdout",
     "output_type": "stream",
     "text": [
      "58283282.8456\n"
     ]
    }
   ],
   "source": [
    "tot_convex = df_buildings_2[\"area\"].sum()\n",
    "print(tot_convex)"
   ]
  },
  {
   "cell_type": "markdown",
   "metadata": {},
   "source": [
    "# Percent Area of Buildings, Pavement, and Sidewalks"
   ]
  },
  {
   "cell_type": "code",
   "execution_count": 66,
   "metadata": {},
   "outputs": [
    {
     "name": "stdout",
     "output_type": "stream",
     "text": [
      "Buildings are 4.013002598699303 percent of the area calculated using the convex hull of building footprints.\n",
      "Pavement is 10.455984962832222 percent of the area calculated using the convex hull of building footprints.\n",
      "Sidewalks are 1.5183519529636496 percent of the area calculated using the convex hull of building footprints.\n"
     ]
    }
   ],
   "source": [
    "A = (tot_build/tot_convex)*100\n",
    "B = (tot_pave/tot_convex)*100\n",
    "C = (tot_side/tot_convex)*100\n",
    "print(\"Buildings are\",A,\"percent of the area calculated using the convex hull of building footprints.\")\n",
    "print(\"Pavement is\",B,\"percent of the area calculated using the convex hull of building footprints.\")\n",
    "print(\"Sidewalks are\",C,\"percent of the area calculated using the convex hull of building footprints.\")"
   ]
  },
  {
   "cell_type": "code",
   "execution_count": null,
   "metadata": {},
   "outputs": [],
   "source": []
  }
 ],
 "metadata": {
  "kernelspec": {
   "display_name": "Python 3 (ipykernel)",
   "language": "python",
   "name": "python3"
  },
  "language_info": {
   "codemirror_mode": {
    "name": "ipython",
    "version": 3
   },
   "file_extension": ".py",
   "mimetype": "text/x-python",
   "name": "python",
   "nbconvert_exporter": "python",
   "pygments_lexer": "ipython3",
   "version": "3.9.0"
  }
 },
 "nbformat": 4,
 "nbformat_minor": 2
}
