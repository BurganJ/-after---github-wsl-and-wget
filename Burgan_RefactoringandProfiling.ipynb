{
 "cells": [
  {
   "cell_type": "code",
   "execution_count": 1,
   "id": "603766a7",
   "metadata": {},
   "outputs": [],
   "source": [
    "import math\n",
    "import numpy as np\n",
    "import random\n",
    "import string"
   ]
  },
  {
   "cell_type": "markdown",
   "id": "1b6b10da",
   "metadata": {},
   "source": [
    "# After 3 / rps\n",
    "\n",
    "* rock, paper, scissors game with two text inputs of ('rock', 'paper', or 'scissors)\n",
    "* Return winner as a string ('u1' or 'u2'), or if same  \"It's a tie\"\n",
    "* Rock beats scissors - Scissors beats paper - Paper beats rock\n",
    "* Example: rps('rock','paper') returns 'u2'\n",
    "* Example: rps('scissors','paper') returns 'u1'\n"
   ]
  },
  {
   "cell_type": "code",
   "execution_count": 2,
   "id": "195d53f3",
   "metadata": {},
   "outputs": [],
   "source": [
    "def rps(u1,u2):\n",
    "    if u1 == 'rock' and u2 == 'scissors':\n",
    "        return 'u1'\n",
    "    if u2 == 'rock' and u1 == 'scissors':\n",
    "        return 'u2'\n",
    "    if u1 == 'scissors' and u2 == 'paper':\n",
    "        return 'u1'\n",
    "    if u2 == 'scissors' and u1 == 'paper':\n",
    "        return 'u2'\n",
    "    if u1 == 'paper' and u2 == 'rock':\n",
    "        return 'u1'\n",
    "    if u2 == 'paper' and u1 == 'rock':\n",
    "        return 'u2'\n",
    "    if u2 == u1:\n",
    "        return \"It's a tie\""
   ]
  },
  {
   "cell_type": "code",
   "execution_count": 3,
   "id": "08c6bfaf",
   "metadata": {},
   "outputs": [],
   "source": [
    "def rps2(u1,u2):\n",
    "    if u1 == 'rock' and u2 == 'scissors':\n",
    "        return 'u1'\n",
    "    if u1 == 'scissors' and u2 == 'paper':\n",
    "        return 'u1'\n",
    "    if u1 == 'paper' and u2 == 'rock':\n",
    "        return 'u1'\n",
    "    if u2 == u1:\n",
    "        return \"It's a tie\"\n",
    "    else:\n",
    "        return 'u2'"
   ]
  },
  {
   "cell_type": "code",
   "execution_count": 4,
   "id": "5d013e08",
   "metadata": {},
   "outputs": [
    {
     "name": "stdout",
     "output_type": "stream",
     "text": [
      "u2\n",
      "u2\n"
     ]
    }
   ],
   "source": [
    "print(rps('rock','paper'))\n",
    "print(rps2('rock','paper'))"
   ]
  },
  {
   "cell_type": "code",
   "execution_count": 5,
   "id": "29cefe43",
   "metadata": {},
   "outputs": [
    {
     "name": "stdout",
     "output_type": "stream",
     "text": [
      "u1\n",
      "u1\n"
     ]
    }
   ],
   "source": [
    "print(rps('scissors','paper'))\n",
    "print(rps2('scissors','paper'))"
   ]
  },
  {
   "cell_type": "code",
   "execution_count": 6,
   "id": "71095b40",
   "metadata": {},
   "outputs": [],
   "source": [
    "rps_li = ['rock', 'paper', 'scissors']\n",
    "tests = [(random.choice(rps_li),random.choice(rps_li)) for i in range(10)]"
   ]
  },
  {
   "cell_type": "code",
   "execution_count": 7,
   "id": "f1ffb53e",
   "metadata": {},
   "outputs": [
    {
     "name": "stdout",
     "output_type": "stream",
     "text": [
      "4.53 µs ± 114 ns per loop (mean ± std. dev. of 7 runs, 100000 loops each)\n"
     ]
    }
   ],
   "source": [
    "%%timeit\n",
    "results = [rps(u1,u2) for (u1,u2) in tests]"
   ]
  },
  {
   "cell_type": "code",
   "execution_count": 8,
   "id": "cc6318fe",
   "metadata": {},
   "outputs": [
    {
     "name": "stdout",
     "output_type": "stream",
     "text": [
      "3.68 µs ± 168 ns per loop (mean ± std. dev. of 7 runs, 100000 loops each)\n"
     ]
    }
   ],
   "source": [
    "%%timeit\n",
    "results = [rps2(u1,u2) for (u1,u2) in tests]"
   ]
  },
  {
   "cell_type": "markdown",
   "id": "f355e5dc",
   "metadata": {},
   "source": [
    "The new refactored code assumes that for any case where u1 doesn't win and u1 does not equal u2, u2 must be the winner.  Thinking about the problem in this way decreases the number of if statements and speeds up the performance by ~1.2x."
   ]
  },
  {
   "cell_type": "markdown",
   "id": "10e8da00",
   "metadata": {},
   "source": [
    "# After 4 / addodds\n",
    "\n",
    "* add all odd integers less than a passed value (s)\n",
    "* return the sum\n",
    "* Example: addodds(5) returns 4 (1 + 3)\n",
    "* Example: addodds(4) returns 4 (1 + 3)"
   ]
  },
  {
   "cell_type": "code",
   "execution_count": 9,
   "id": "66d99ae8",
   "metadata": {},
   "outputs": [],
   "source": [
    "def addodds(s):\n",
    "    odds = []\n",
    "    for i in range(s-1,0,-1):\n",
    "        if i%2 != 0:\n",
    "            odds.append(i)\n",
    "    return sum(odds)"
   ]
  },
  {
   "cell_type": "code",
   "execution_count": 10,
   "id": "ee0ef2ff",
   "metadata": {},
   "outputs": [],
   "source": [
    "def addodds2(s):\n",
    "    x = np.arange(1,s,2)\n",
    "    return sum(x)"
   ]
  },
  {
   "cell_type": "code",
   "execution_count": 11,
   "id": "4b45f013",
   "metadata": {},
   "outputs": [
    {
     "name": "stdout",
     "output_type": "stream",
     "text": [
      "4\n",
      "4\n"
     ]
    }
   ],
   "source": [
    "print(addodds(5))\n",
    "print(addodds2(5))"
   ]
  },
  {
   "cell_type": "code",
   "execution_count": 12,
   "id": "cfa3e8b1",
   "metadata": {},
   "outputs": [
    {
     "name": "stdout",
     "output_type": "stream",
     "text": [
      "4\n",
      "4\n"
     ]
    }
   ],
   "source": [
    "print(addodds(4))\n",
    "print(addodds2(4))"
   ]
  },
  {
   "cell_type": "code",
   "execution_count": 13,
   "id": "fb650e39",
   "metadata": {},
   "outputs": [],
   "source": [
    "tests = [random.randint(1,100) for i in range(10)]"
   ]
  },
  {
   "cell_type": "code",
   "execution_count": 14,
   "id": "8cda557b",
   "metadata": {},
   "outputs": [
    {
     "name": "stdout",
     "output_type": "stream",
     "text": [
      "88 µs ± 3.53 µs per loop (mean ± std. dev. of 7 runs, 10000 loops each)\n"
     ]
    }
   ],
   "source": [
    "%%timeit \n",
    "results = [addodds(item) for item in tests]"
   ]
  },
  {
   "cell_type": "code",
   "execution_count": 15,
   "id": "249c922a",
   "metadata": {},
   "outputs": [
    {
     "name": "stdout",
     "output_type": "stream",
     "text": [
      "51.2 µs ± 2.51 µs per loop (mean ± std. dev. of 7 runs, 10000 loops each)\n"
     ]
    }
   ],
   "source": [
    "%%timeit \n",
    "results = [addodds2(item) for item in tests]"
   ]
  },
  {
   "cell_type": "markdown",
   "id": "938567bf",
   "metadata": {},
   "source": [
    "The new refactored code creates a numpy array using the np.arange(start,stop,step) format rather than creating a new list and appending the results from an if statement into this list.  The new code eliminates the need for looping and speeds up performance by ~ 1.7x."
   ]
  },
  {
   "cell_type": "markdown",
   "id": "5c14c814",
   "metadata": {},
   "source": [
    "# After 4 / addevens\n",
    "\n",
    "* add all even integers less than or equal to a passed value (s)\n",
    "* return the sum\n",
    "* Example: addevens(5) returns 6 (2 + 4)\n",
    "* Example: addevens(24) returns 156"
   ]
  },
  {
   "cell_type": "code",
   "execution_count": 16,
   "id": "45c0f498",
   "metadata": {},
   "outputs": [],
   "source": [
    "def addevens(s):\n",
    "    evens = []\n",
    "    for i in range(s,0,-1):\n",
    "        if i%2 == 0:\n",
    "            evens.append(i)\n",
    "    return sum(evens)"
   ]
  },
  {
   "cell_type": "code",
   "execution_count": 17,
   "id": "5184a653",
   "metadata": {},
   "outputs": [],
   "source": [
    "def addevens2(s):\n",
    "    x = np.arange(2,s+1,2)\n",
    "    return sum(x)"
   ]
  },
  {
   "cell_type": "code",
   "execution_count": 18,
   "id": "86ce2741",
   "metadata": {},
   "outputs": [
    {
     "name": "stdout",
     "output_type": "stream",
     "text": [
      "6\n",
      "6\n"
     ]
    }
   ],
   "source": [
    "print(addevens(5))\n",
    "print(addevens2(5))"
   ]
  },
  {
   "cell_type": "code",
   "execution_count": 19,
   "id": "104a5e0a",
   "metadata": {},
   "outputs": [
    {
     "name": "stdout",
     "output_type": "stream",
     "text": [
      "156\n",
      "156\n"
     ]
    }
   ],
   "source": [
    "print(addevens(24))\n",
    "print(addevens2(24))"
   ]
  },
  {
   "cell_type": "code",
   "execution_count": 20,
   "id": "0084471f",
   "metadata": {},
   "outputs": [],
   "source": [
    "tests = [random.randint(1,100) for i in range(10)]"
   ]
  },
  {
   "cell_type": "code",
   "execution_count": 21,
   "id": "6abe1806",
   "metadata": {},
   "outputs": [
    {
     "name": "stdout",
     "output_type": "stream",
     "text": [
      "84.5 µs ± 9.88 µs per loop (mean ± std. dev. of 7 runs, 10000 loops each)\n"
     ]
    }
   ],
   "source": [
    "%%timeit \n",
    "results = [addevens(item) for item in tests]"
   ]
  },
  {
   "cell_type": "code",
   "execution_count": 22,
   "id": "8b8c5fa6",
   "metadata": {},
   "outputs": [
    {
     "name": "stdout",
     "output_type": "stream",
     "text": [
      "52.3 µs ± 2.04 µs per loop (mean ± std. dev. of 7 runs, 10000 loops each)\n"
     ]
    }
   ],
   "source": [
    "%%timeit \n",
    "results = [addevens2(item) for item in tests]"
   ]
  },
  {
   "cell_type": "markdown",
   "id": "af4ae8d0",
   "metadata": {},
   "source": [
    "The new refactored code creates a numpy array using the np.arange(start,stop,step) format rather than creating a new list and appending the results from an if statement into this list. The new code eliminates the need for looping and speeds up performance by ~ 1.6x."
   ]
  },
  {
   "cell_type": "markdown",
   "id": "642c8e9b",
   "metadata": {},
   "source": [
    "# After 4 / multints\n",
    "\n",
    "* given two integers, \n",
    "* return the result of multiplying all intermediate integers including the lowest and not including the highest\n",
    "* Example: multints(2,6) returns 120.0 (2*3*4*5)\n",
    "* Example: multints(1,5) returns 24.0 (1*2*3*4)"
   ]
  },
  {
   "cell_type": "code",
   "execution_count": 23,
   "id": "60f57d59",
   "metadata": {},
   "outputs": [],
   "source": [
    "def multints(a,b):\n",
    "    ints = []\n",
    "    if a < b:\n",
    "        for i in range(a,b, 1):\n",
    "            ints.append(i) \n",
    "        return np.prod(ints, dtype = float)\n",
    "    elif a > b:\n",
    "        for i in range (b, a, 1):\n",
    "            ints.append(i)\n",
    "        return np.prod(ints, dtype = float)\n",
    "    else:\n",
    "        return a"
   ]
  },
  {
   "cell_type": "code",
   "execution_count": 24,
   "id": "63e3ba0b",
   "metadata": {},
   "outputs": [],
   "source": [
    "def multints2(a,b):\n",
    "    if a < b:\n",
    "        x = np.arange(a,b,1)\n",
    "        return np.prod(x, dtype = float)\n",
    "    if a > b:\n",
    "        y = np.arange(b,a,1)\n",
    "        return np.prod(y, dtype = float)\n",
    "    else:\n",
    "        return a"
   ]
  },
  {
   "cell_type": "code",
   "execution_count": 25,
   "id": "0293fb59",
   "metadata": {},
   "outputs": [
    {
     "name": "stdout",
     "output_type": "stream",
     "text": [
      "120.0\n",
      "120.0\n"
     ]
    }
   ],
   "source": [
    "print(multints(2,6))\n",
    "print(multints2(2,6))"
   ]
  },
  {
   "cell_type": "code",
   "execution_count": 26,
   "id": "83da74d7",
   "metadata": {},
   "outputs": [
    {
     "name": "stdout",
     "output_type": "stream",
     "text": [
      "24.0\n",
      "24.0\n"
     ]
    }
   ],
   "source": [
    "print(multints(1,5))\n",
    "print(multints2(1,5))"
   ]
  },
  {
   "cell_type": "code",
   "execution_count": 27,
   "id": "3ebee8aa",
   "metadata": {},
   "outputs": [],
   "source": [
    "tests = [(random.randint(1,100),random.randint(1,100)) for i in range(10)]"
   ]
  },
  {
   "cell_type": "code",
   "execution_count": 28,
   "id": "828004b1",
   "metadata": {},
   "outputs": [
    {
     "name": "stdout",
     "output_type": "stream",
     "text": [
      "137 µs ± 28.9 µs per loop (mean ± std. dev. of 7 runs, 10000 loops each)\n"
     ]
    }
   ],
   "source": [
    "%%timeit\n",
    "results = [multints(a,b) for (a,b) in tests]"
   ]
  },
  {
   "cell_type": "code",
   "execution_count": 29,
   "id": "729997e0",
   "metadata": {},
   "outputs": [
    {
     "name": "stdout",
     "output_type": "stream",
     "text": [
      "59.1 µs ± 917 ns per loop (mean ± std. dev. of 7 runs, 10000 loops each)\n"
     ]
    }
   ],
   "source": [
    "%%timeit\n",
    "results = [multints2(a,b) for (a,b) in tests]"
   ]
  },
  {
   "cell_type": "markdown",
   "id": "5edcca81",
   "metadata": {},
   "source": [
    "The new refactored code creates a numpy array of integers between a and b and finds the product of this array rather than creating and appending to a list as in multints(a,b).  Utilising an array rather than initialising a list and adding to the list with for loops within if statements results in a ~2.3x speed up in performance."
   ]
  },
  {
   "cell_type": "markdown",
   "id": "649467a4",
   "metadata": {},
   "source": [
    "# After 5 / ends\n",
    "\n",
    "* function that selects first 3 and last 3 letters in a string (s)\n",
    "* return the 6 letters in the original order in a single string\n",
    "* Example: ends('Geography') returns 'Geophy'\n",
    "* Example: ends('Hellgrammite') returns 'Helite'"
   ]
  },
  {
   "cell_type": "code",
   "execution_count": 30,
   "id": "742e3106",
   "metadata": {},
   "outputs": [],
   "source": [
    "def ends(s):\n",
    "    first = s[:3]\n",
    "    last = s[-3:]\n",
    "    return str(first + last)"
   ]
  },
  {
   "cell_type": "code",
   "execution_count": 31,
   "id": "7fd0a949",
   "metadata": {},
   "outputs": [],
   "source": [
    "def ends2(s):\n",
    "    return str(s[:3] + s[-3:])"
   ]
  },
  {
   "cell_type": "code",
   "execution_count": 32,
   "id": "e643cbb2",
   "metadata": {},
   "outputs": [
    {
     "name": "stdout",
     "output_type": "stream",
     "text": [
      "Geophy\n",
      "Geophy\n"
     ]
    }
   ],
   "source": [
    "print(ends('Geography'))\n",
    "print(ends2('Geography'))"
   ]
  },
  {
   "cell_type": "code",
   "execution_count": 33,
   "id": "4a6a9134",
   "metadata": {},
   "outputs": [
    {
     "name": "stdout",
     "output_type": "stream",
     "text": [
      "Helite\n",
      "Helite\n"
     ]
    }
   ],
   "source": [
    "print(ends('Hellgrammite'))\n",
    "print(ends2('Hellgrammite'))"
   ]
  },
  {
   "cell_type": "code",
   "execution_count": 34,
   "id": "5aa53f55",
   "metadata": {},
   "outputs": [],
   "source": [
    "letters = string.ascii_lowercase\n",
    "tests = [(''.join(random.choice(letters) for i in range(10)))for i in range(10)]"
   ]
  },
  {
   "cell_type": "code",
   "execution_count": 35,
   "id": "f5ff30f9",
   "metadata": {},
   "outputs": [
    {
     "name": "stdout",
     "output_type": "stream",
     "text": [
      "6.84 µs ± 220 ns per loop (mean ± std. dev. of 7 runs, 100000 loops each)\n"
     ]
    }
   ],
   "source": [
    "%%timeit \n",
    "results = [ends(item) for item in tests]"
   ]
  },
  {
   "cell_type": "code",
   "execution_count": 36,
   "id": "fcaeb37b",
   "metadata": {},
   "outputs": [
    {
     "name": "stdout",
     "output_type": "stream",
     "text": [
      "4.51 µs ± 731 ns per loop (mean ± std. dev. of 7 runs, 100000 loops each)\n"
     ]
    }
   ],
   "source": [
    "%%timeit \n",
    "results = [ends2(item) for item in tests]"
   ]
  },
  {
   "cell_type": "markdown",
   "id": "02ee43bb",
   "metadata": {},
   "source": [
    "The new refactored code eliminates unecessary variables from ends(s) and concatenates each one string to the other without the need for these variables.  This results in one line of code rather than three and speeds up performance by ~1.5x."
   ]
  },
  {
   "cell_type": "markdown",
   "id": "a0e76138",
   "metadata": {},
   "source": [
    "# After 4 / else1\n",
    "\n",
    "* given a number, we want to see if it has a factor 5 or less\n",
    "* return True if so, False if not, stop checking once you know it is True\n",
    "* Example: else1(23)  returns False as none of the values 2, 3, 4, 5 are integer factors of 23\n",
    "* Example: else1(15) returns True as 3 is a factor of 15"
   ]
  },
  {
   "cell_type": "code",
   "execution_count": 37,
   "id": "7af7fe34",
   "metadata": {},
   "outputs": [],
   "source": [
    "def else1(n):\n",
    "    factors = []\n",
    "    for i in range(n,1,-1):\n",
    "        if n%i == 0:\n",
    "            factors.append(i)\n",
    "    my_array = np.array(factors)\n",
    "    return np.any(my_array <= 5)"
   ]
  },
  {
   "cell_type": "code",
   "execution_count": 38,
   "id": "211b0597",
   "metadata": {},
   "outputs": [],
   "source": [
    "def else1_2(n):\n",
    "    x = np.arange(2,6,1)\n",
    "    return np.any(np.remainder(n,x)==0)"
   ]
  },
  {
   "cell_type": "code",
   "execution_count": 39,
   "id": "f41fb733",
   "metadata": {},
   "outputs": [
    {
     "name": "stdout",
     "output_type": "stream",
     "text": [
      "False\n",
      "False\n"
     ]
    }
   ],
   "source": [
    "print(else1(23))\n",
    "print(else1_2(23))"
   ]
  },
  {
   "cell_type": "code",
   "execution_count": 40,
   "id": "f819ca3e",
   "metadata": {},
   "outputs": [
    {
     "name": "stdout",
     "output_type": "stream",
     "text": [
      "True\n",
      "True\n"
     ]
    }
   ],
   "source": [
    "print(else1(15))\n",
    "print(else1_2(15))"
   ]
  },
  {
   "cell_type": "code",
   "execution_count": 41,
   "id": "13d8d603",
   "metadata": {},
   "outputs": [],
   "source": [
    "tests = [random.randint(1,100) for i in range(10)]"
   ]
  },
  {
   "cell_type": "code",
   "execution_count": 42,
   "id": "0a5cb7d9",
   "metadata": {},
   "outputs": [
    {
     "name": "stdout",
     "output_type": "stream",
     "text": [
      "126 µs ± 27.4 µs per loop (mean ± std. dev. of 7 runs, 10000 loops each)\n"
     ]
    }
   ],
   "source": [
    "%%timeit \n",
    "results = [else1(item) for item in tests]"
   ]
  },
  {
   "cell_type": "code",
   "execution_count": 43,
   "id": "990a6b22",
   "metadata": {},
   "outputs": [
    {
     "name": "stdout",
     "output_type": "stream",
     "text": [
      "83.4 µs ± 1.31 µs per loop (mean ± std. dev. of 7 runs, 10000 loops each)\n"
     ]
    }
   ],
   "source": [
    "%%timeit \n",
    "results = [else1_2(item) for item in tests]"
   ]
  },
  {
   "cell_type": "markdown",
   "id": "e469ceb8",
   "metadata": {},
   "source": [
    "The new refactored code creates a numpy array and includes the numpy version of the modulus operator in the return statement while the original code initialised a list and utilised a for loop with an if statement to append to the new list, which was then turned into a numpy array.  Eliminating looping from this code and the transition from a list to an array resulted in a ~1.5x speed up in performance."
   ]
  }
 ],
 "metadata": {
  "kernelspec": {
   "display_name": "Python 3 (ipykernel)",
   "language": "python",
   "name": "python3"
  },
  "language_info": {
   "codemirror_mode": {
    "name": "ipython",
    "version": 3
   },
   "file_extension": ".py",
   "mimetype": "text/x-python",
   "name": "python",
   "nbconvert_exporter": "python",
   "pygments_lexer": "ipython3",
   "version": "3.9.0"
  }
 },
 "nbformat": 4,
 "nbformat_minor": 5
}
